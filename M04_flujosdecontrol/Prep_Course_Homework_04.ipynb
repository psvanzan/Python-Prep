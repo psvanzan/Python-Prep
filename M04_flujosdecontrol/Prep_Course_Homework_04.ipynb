{
 "cells": [
  {
   "attachments": {},
   "cell_type": "markdown",
   "metadata": {},
   "source": [
    "## Flujos de Control"
   ]
  },
  {
   "attachments": {},
   "cell_type": "markdown",
   "metadata": {},
   "source": [
    "1) Crear una variable que contenga un elemento del conjunto de números enteros y luego imprimir por pantalla si es mayor o menor a cero"
   ]
  },
  {
   "cell_type": "code",
   "execution_count": 73,
   "metadata": {},
   "outputs": [
    {
     "name": "stdout",
     "output_type": "stream",
     "text": [
      "la variable no pertenece a los enteros\n"
     ]
    }
   ],
   "source": [
    "a = \"0\"\n",
    "if type(a) == int:\n",
    "    if a > 0:\n",
    "        print ('el nro es mayor a cero')\n",
    "    elif a<0:\n",
    "        print ('es menor a cero')\n",
    "    else:\n",
    "        print ('la variable es igual a cero')\n",
    "else:\n",
    "    print (\"la variable no pertenece a los enteros\")"
   ]
  },
  {
   "attachments": {},
   "cell_type": "markdown",
   "metadata": {},
   "source": [
    "2) Crear dos variables y un condicional que informe si son del mismo tipo de dato"
   ]
  },
  {
   "cell_type": "code",
   "execution_count": 4,
   "metadata": {},
   "outputs": [
    {
     "name": "stdout",
     "output_type": "stream",
     "text": [
      "las variables son del mismo tipo\n"
     ]
    }
   ],
   "source": [
    "a = '10'\n",
    "b = '5'\n",
    "if type(a) == type (b):\n",
    "    print ('las variables son del mismo tipo')\n",
    "else:\n",
    "    print ('las variables son de distinto tipo')\n"
   ]
  },
  {
   "attachments": {},
   "cell_type": "markdown",
   "metadata": {},
   "source": [
    "3) Para los valores enteros del 1 al 20, imprimir por pantalla si es par o impar"
   ]
  },
  {
   "cell_type": "code",
   "execution_count": 23,
   "metadata": {},
   "outputs": [
    {
     "name": "stdout",
     "output_type": "stream",
     "text": [
      "el num 1 es impar\n",
      "el num 2 es par\n",
      "el num 3 es impar\n",
      "el num 4 es par\n",
      "el num 5 es impar\n",
      "el num 6 es par\n",
      "el num 7 es impar\n",
      "el num 8 es par\n",
      "el num 9 es impar\n",
      "el num 10 es par\n",
      "el num 11 es impar\n",
      "el num 12 es par\n",
      "el num 13 es impar\n",
      "el num 14 es par\n",
      "el num 15 es impar\n",
      "el num 16 es par\n",
      "el num 17 es impar\n",
      "el num 18 es par\n",
      "el num 19 es impar\n",
      "el num 20 es par\n"
     ]
    }
   ],
   "source": [
    "for n in range (1,21):\n",
    "    if (n % 2) == 1:\n",
    "        par_impar = 'impar'\n",
    "    else:\n",
    "        par_impar = 'par'\n",
    "    print (f'el num {n} es {par_impar}')"
   ]
  },
  {
   "attachments": {},
   "cell_type": "markdown",
   "metadata": {},
   "source": [
    "4) En un ciclo for mostrar para los valores entre 0 y 5 el resultado de elevarlo a la potencia igual a 3"
   ]
  },
  {
   "cell_type": "code",
   "execution_count": 7,
   "metadata": {},
   "outputs": [
    {
     "name": "stdout",
     "output_type": "stream",
     "text": [
      "0\n",
      "1\n",
      "8\n",
      "27\n",
      "64\n",
      "125\n"
     ]
    }
   ],
   "source": [
    "for n in range(0,6):\n",
    "    print (n**3)"
   ]
  },
  {
   "attachments": {},
   "cell_type": "markdown",
   "metadata": {},
   "source": [
    "5) Crear una variable que contenga un número entero y realizar un ciclo for la misma cantidad de ciclos"
   ]
  },
  {
   "cell_type": "code",
   "execution_count": 74,
   "metadata": {},
   "outputs": [
    {
     "name": "stdout",
     "output_type": "stream",
     "text": [
      "este es el ciclo n 1\n",
      "este es el ciclo n 2\n",
      "este es el ciclo n 3\n"
     ]
    }
   ],
   "source": [
    "ciclos = 3\n",
    "for n in range (1, ciclos+1):\n",
    "    print (f'este es el ciclo n {n}')\n"
   ]
  },
  {
   "attachments": {},
   "cell_type": "markdown",
   "metadata": {},
   "source": [
    "6) Utilizar un ciclo while para realizar el factorial de un número guardado en una variable, sólo si la variable contiene un número entero mayor a 0"
   ]
  },
  {
   "cell_type": "code",
   "execution_count": 78,
   "metadata": {},
   "outputs": [
    {
     "name": "stdout",
     "output_type": "stream",
     "text": [
      "120\n"
     ]
    }
   ],
   "source": [
    "factorial = 1\n",
    "nro = 5\n",
    "if type (nro) == int and nro >0:\n",
    "\n",
    "    for i in range (1, nro ):\n",
    "        factorial = factorial * (i+1)\n",
    "    print (factorial)\n",
    "# volver a hacer con un while dio can\n"
   ]
  },
  {
   "attachments": {},
   "cell_type": "markdown",
   "metadata": {},
   "source": [
    "7) Crear un ciclo for dentro de un ciclo while"
   ]
  },
  {
   "cell_type": "code",
   "execution_count": 24,
   "metadata": {},
   "outputs": [
    {
     "name": "stdout",
     "output_type": "stream",
     "text": [
      "\n",
      "Tabla del 1\n",
      "========================\n",
      "1 x 1 = 1\n",
      "1 x 2 = 2\n",
      "1 x 3 = 3\n",
      "1 x 4 = 4\n",
      "1 x 5 = 5\n",
      "1 x 6 = 6\n",
      "1 x 7 = 7\n",
      "1 x 8 = 8\n",
      "1 x 9 = 9\n",
      "\n",
      "Tabla del 2\n",
      "========================\n",
      "2 x 1 = 2\n",
      "2 x 2 = 4\n",
      "2 x 3 = 6\n",
      "2 x 4 = 8\n",
      "2 x 5 = 10\n",
      "2 x 6 = 12\n",
      "2 x 7 = 14\n",
      "2 x 8 = 16\n",
      "2 x 9 = 18\n",
      "\n",
      "Tabla del 3\n",
      "========================\n",
      "3 x 1 = 3\n",
      "3 x 2 = 6\n",
      "3 x 3 = 9\n",
      "3 x 4 = 12\n",
      "3 x 5 = 15\n",
      "3 x 6 = 18\n",
      "3 x 7 = 21\n",
      "3 x 8 = 24\n",
      "3 x 9 = 27\n",
      "\n",
      "Tabla del 4\n",
      "========================\n",
      "4 x 1 = 4\n",
      "4 x 2 = 8\n",
      "4 x 3 = 12\n",
      "4 x 4 = 16\n",
      "4 x 5 = 20\n",
      "4 x 6 = 24\n",
      "4 x 7 = 28\n",
      "4 x 8 = 32\n",
      "4 x 9 = 36\n",
      "\n",
      "Tabla del 5\n",
      "========================\n",
      "5 x 1 = 5\n",
      "5 x 2 = 10\n",
      "5 x 3 = 15\n",
      "5 x 4 = 20\n",
      "5 x 5 = 25\n",
      "5 x 6 = 30\n",
      "5 x 7 = 35\n",
      "5 x 8 = 40\n",
      "5 x 9 = 45\n",
      "\n",
      "Tabla del 6\n",
      "========================\n",
      "6 x 1 = 6\n",
      "6 x 2 = 12\n",
      "6 x 3 = 18\n",
      "6 x 4 = 24\n",
      "6 x 5 = 30\n",
      "6 x 6 = 36\n",
      "6 x 7 = 42\n",
      "6 x 8 = 48\n",
      "6 x 9 = 54\n",
      "\n",
      "Tabla del 7\n",
      "========================\n",
      "7 x 1 = 7\n",
      "7 x 2 = 14\n",
      "7 x 3 = 21\n",
      "7 x 4 = 28\n",
      "7 x 5 = 35\n",
      "7 x 6 = 42\n",
      "7 x 7 = 49\n",
      "7 x 8 = 56\n",
      "7 x 9 = 63\n",
      "\n",
      "Tabla del 8\n",
      "========================\n",
      "8 x 1 = 8\n",
      "8 x 2 = 16\n",
      "8 x 3 = 24\n",
      "8 x 4 = 32\n",
      "8 x 5 = 40\n",
      "8 x 6 = 48\n",
      "8 x 7 = 56\n",
      "8 x 8 = 64\n",
      "8 x 9 = 72\n",
      "\n",
      "Tabla del 9\n",
      "========================\n",
      "9 x 1 = 9\n",
      "9 x 2 = 18\n",
      "9 x 3 = 27\n",
      "9 x 4 = 36\n",
      "9 x 5 = 45\n",
      "9 x 6 = 54\n",
      "9 x 7 = 63\n",
      "9 x 8 = 72\n",
      "9 x 9 = 81\n"
     ]
    }
   ],
   "source": [
    "# voy a hacer las tablas del 1 al 9\n",
    "\n",
    "tabla = 1\n",
    "\n",
    "while tabla <10:\n",
    "    \n",
    "    print (f\"\"\"\n",
    "Tabla del {tabla}\n",
    "========================\"\"\")\n",
    "    \n",
    "    for i in range (1,10):\n",
    "        print (f\"{tabla} x {i} = {tabla*i}\")\n",
    "\n",
    "    tabla +=1"
   ]
  },
  {
   "attachments": {},
   "cell_type": "markdown",
   "metadata": {},
   "source": [
    "8) Crear un ciclo while dentro de un ciclo for"
   ]
  },
  {
   "cell_type": "code",
   "execution_count": null,
   "metadata": {},
   "outputs": [],
   "source": [
    "# voy a hacer las tablas del 1 al 9\n",
    "\n",
    "for tabla in range (1,10):\n",
    "    print (f\"\"\"\n",
    "Tabla del {tabla}\n",
    "=================\"\"\")\n",
    "    i = 1\n",
    "    while i < 10:\n",
    "        print (f\" {tabla} x {i} = {tabla *i}\")\n",
    "        i+=1"
   ]
  },
  {
   "attachments": {},
   "cell_type": "markdown",
   "metadata": {},
   "source": [
    "9) Imprimir los números primos existentes entre 0 y 30"
   ]
  },
  {
   "cell_type": "code",
   "execution_count": 68,
   "metadata": {},
   "outputs": [
    {
     "name": "stdout",
     "output_type": "stream",
     "text": [
      "el numero 2 es primo\n",
      "el numero 3 es primo\n",
      "el numero 5 es primo\n",
      "el numero 7 es primo\n",
      "el numero 11 es primo\n",
      "el numero 13 es primo\n",
      "el numero 17 es primo\n",
      "el numero 19 es primo\n",
      "el numero 23 es primo\n",
      "el numero 29 es primo\n"
     ]
    }
   ],
   "source": [
    "for numero in range (2,30): # arranco por el n. 2, por convencion el 1 no es primo.\n",
    "\n",
    "    div = 0 # si nro_divisiones llega a 2 entonces nro es NO Primo\n",
    "    divisores = 1\n",
    "    while (numero > divisores) :\n",
    "\n",
    "        divisores +=1\n",
    "        \n",
    "        if (numero % divisores) == 0: #si el resto de la division es cero, sumo 1 a los divisibles\n",
    "            div +=1      \n",
    "            if div >1:  # si tiene mas de un divisores, no es primo... salto\n",
    "                break\n",
    "    \n",
    "    if div <2:\n",
    "        print (f'el numero {numero} es primo')      "
   ]
  },
  {
   "attachments": {},
   "cell_type": "markdown",
   "metadata": {},
   "source": [
    "10) ¿Se puede mejorar el proceso del punto 9? Utilizar las sentencias break y/ó continue para tal fin"
   ]
  },
  {
   "cell_type": "code",
   "execution_count": null,
   "metadata": {},
   "outputs": [],
   "source": [
    "#Si, se puede"
   ]
  },
  {
   "attachments": {},
   "cell_type": "markdown",
   "metadata": {},
   "source": [
    "11) En los puntos 9 y 10, se diseño un código que encuentra números primos y además se lo optimizó. ¿Es posible saber en qué medida se optimizó?"
   ]
  },
  {
   "cell_type": "code",
   "execution_count": null,
   "metadata": {},
   "outputs": [],
   "source": [
    "# Si, es posible, metemos un contador de ciclos en ambos casos\n",
    "# y de esta manera es posible conocer el ahorro"
   ]
  },
  {
   "attachments": {},
   "cell_type": "markdown",
   "metadata": {},
   "source": [
    "12) Si la cantidad de números que se evalúa es mayor a treinta, esa optimización crece?"
   ]
  },
  {
   "cell_type": "code",
   "execution_count": null,
   "metadata": {},
   "outputs": [],
   "source": [
    "# si, crece (hizo el calculo la profe en el live.)"
   ]
  },
  {
   "attachments": {},
   "cell_type": "markdown",
   "metadata": {},
   "source": [
    "13) Aplicando continue, armar un ciclo while que solo imprima los valores divisibles por 12, dentro del rango de números de 100 a 300"
   ]
  },
  {
   "cell_type": "code",
   "execution_count": 18,
   "metadata": {},
   "outputs": [
    {
     "name": "stdout",
     "output_type": "stream",
     "text": [
      "108\n",
      "120\n",
      "132\n",
      "144\n",
      "156\n",
      "168\n",
      "180\n",
      "192\n",
      "204\n",
      "216\n",
      "228\n",
      "240\n",
      "252\n",
      "264\n",
      "276\n",
      "288\n",
      "300\n"
     ]
    }
   ],
   "source": [
    "nro = 99\n",
    "while nro < 300:\n",
    "    nro +=1\n",
    "    if (nro % 12) == 0:\n",
    "        print (nro)\n",
    "    else:\n",
    "        continue"
   ]
  },
  {
   "attachments": {},
   "cell_type": "markdown",
   "metadata": {},
   "source": [
    "14) Utilizar la función **input()** que permite hacer ingresos por teclado, para encontrar números primos y dar la opción al usario de buscar el siguiente"
   ]
  },
  {
   "cell_type": "code",
   "execution_count": 1,
   "metadata": {},
   "outputs": [
    {
     "name": "stdout",
     "output_type": "stream",
     "text": [
      "el numero 2 es primo\n",
      "Desea seguir buscando numeros? s/n\n",
      "interrupido por usuario\n"
     ]
    }
   ],
   "source": [
    "for numero in range (2,30): # arranco por el n. 2, por convencion el 1 no es primo.\n",
    "\n",
    "    div = 0 # si nro_divisiones llega a 2 entonces nro es NO Primo\n",
    "    divisores = 1\n",
    "    while (numero > divisores) :\n",
    "\n",
    "        divisores +=1\n",
    "        \n",
    "        if (numero % divisores) == 0: #si el resto de la division es cero, sumo 1 a los divisibles\n",
    "            div +=1      \n",
    "            if div >1:  # si tiene mas de un divisores, no es primo... salto\n",
    "                break\n",
    "    \n",
    "    if div <2:\n",
    "        print (f'el numero {numero} es primo')\n",
    "        print (\"Desea seguir buscando numeros? s/n\")\n",
    "        if (input() != \"s\"):\n",
    "            print (\"interrupido por usuario\")\n",
    "            break"
   ]
  },
  {
   "attachments": {},
   "cell_type": "markdown",
   "metadata": {},
   "source": [
    "15) Crear un ciclo while que encuentre dentro del rango de 100 a 300 el primer número divisible por 3 y además múltiplo de 6"
   ]
  },
  {
   "cell_type": "code",
   "execution_count": 2,
   "metadata": {},
   "outputs": [
    {
     "name": "stdout",
     "output_type": "stream",
     "text": [
      "102\n"
     ]
    }
   ],
   "source": [
    "nro = 100\n",
    "while nro > 99 and nro < 301:\n",
    "    \n",
    "    if (nro % 6) == 0:\n",
    "        print (nro)\n",
    "        break\n",
    "    nro +=1\n"
   ]
  },
  {
   "cell_type": "code",
   "execution_count": 4,
   "metadata": {},
   "outputs": [
    {
     "name": "stdout",
     "output_type": "stream",
     "text": [
      "('Alicia', 25, 'Buenos Aires')\n",
      "('Carlos', 30, 'Lima')\n",
      "('Pablo', 35, 'Santiago')\n"
     ]
    }
   ],
   "source": [
    "nombres = ['Alicia', 'Carlos', 'Pablo']\n",
    "edades =[25,30,35]\n",
    "ciudades = ['Buenos Aires', 'Lima', 'Santiago']\n",
    "for elemento in zip(nombres, edades, ciudades):\n",
    "    print (elemento)"
   ]
  },
  {
   "cell_type": "code",
   "execution_count": null,
   "metadata": {},
   "outputs": [],
   "source": []
  }
 ],
 "metadata": {
  "interpreter": {
   "hash": "c85384e4cb51c8b72350f3a8712cc8351fdc3955e32a27f9b60c6242ab125f01"
  },
  "kernelspec": {
   "display_name": "Python 3 (ipykernel)",
   "language": "python",
   "name": "python3"
  },
  "language_info": {
   "codemirror_mode": {
    "name": "ipython",
    "version": 3
   },
   "file_extension": ".py",
   "mimetype": "text/x-python",
   "name": "python",
   "nbconvert_exporter": "python",
   "pygments_lexer": "ipython3",
   "version": "3.11.3"
  }
 },
 "nbformat": 4,
 "nbformat_minor": 4
}
