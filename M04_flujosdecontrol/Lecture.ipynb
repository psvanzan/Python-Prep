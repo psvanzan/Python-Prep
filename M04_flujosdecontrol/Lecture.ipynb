{
 "cells": [
  {
   "cell_type": "code",
   "execution_count": 1,
   "metadata": {},
   "outputs": [
    {
     "name": "stdout",
     "output_type": "stream",
     "text": [
      "el numero -5 es negativo\n"
     ]
    }
   ],
   "source": [
    "numero = -5\n",
    "if numero >0:\n",
    "    print(f\"El numero {numero} es positivo\")\n",
    "elif numero < 0:\n",
    "    print(f\"el numero {numero} es negativo\")\n",
    "else:\n",
    "    print (\"el numero es cero\")\n"
   ]
  },
  {
   "attachments": {},
   "cell_type": "markdown",
   "metadata": {},
   "source": [
    "For loop\n",
    "\n",
    "for elemento in secuencia\n",
    "    hace esto...\n",
    "    "
   ]
  },
  {
   "cell_type": "code",
   "execution_count": 7,
   "metadata": {},
   "outputs": [
    {
     "name": "stdout",
     "output_type": "stream",
     "text": [
      "1\n",
      "2\n",
      "3\n",
      "4\n",
      "5\n",
      "6\n"
     ]
    }
   ],
   "source": [
    "lista_num = [1,2,3,4,5,6]\n",
    "for numero in lista_num:\n",
    "    print(numero)\n",
    "\n"
   ]
  },
  {
   "cell_type": "code",
   "execution_count": 4,
   "metadata": {},
   "outputs": [
    {
     "name": "stdout",
     "output_type": "stream",
     "text": [
      " el numero es: 1\n",
      " el numero es: 2\n",
      " el numero es: 3\n",
      " el numero es: 4\n",
      " el numero es: 5\n",
      " el numero es: 6\n"
     ]
    }
   ],
   "source": [
    "lista_num = [1,2,3,4,5,6]\n",
    "for numero in lista_num:\n",
    "    print(f' el numero es: {numero}')\n",
    "    "
   ]
  },
  {
   "cell_type": "code",
   "execution_count": 6,
   "metadata": {},
   "outputs": [
    {
     "name": "stdout",
     "output_type": "stream",
     "text": [
      "1\n",
      "2\n",
      "3\n",
      "4\n",
      "5\n",
      "6\n"
     ]
    }
   ],
   "source": [
    "for numero in range (1,7):\n",
    "    print (numero)"
   ]
  },
  {
   "cell_type": "code",
   "execution_count": 9,
   "metadata": {},
   "outputs": [
    {
     "name": "stdout",
     "output_type": "stream",
     "text": [
      "1\n",
      "2\n",
      "3\n",
      "4\n",
      "5\n",
      "6\n",
      "7\n",
      "8\n",
      "9\n",
      "10\n"
     ]
    }
   ],
   "source": [
    "n =1 \n",
    "while n <= 10:\n",
    "    print (n)\n",
    "    n +=1\n"
   ]
  },
  {
   "cell_type": "code",
   "execution_count": 10,
   "metadata": {},
   "outputs": [
    {
     "name": "stdout",
     "output_type": "stream",
     "text": [
      "P\n",
      "y\n",
      "h\n",
      "o\n",
      "n\n"
     ]
    }
   ],
   "source": [
    "cadena = 'Python'\n",
    "\n",
    "for letra in cadena:   \n",
    "    if letra == \"t\":\n",
    "        continue\n",
    "\n",
    "    print(letra)"
   ]
  },
  {
   "cell_type": "code",
   "execution_count": 13,
   "metadata": {},
   "outputs": [
    {
     "name": "stdout",
     "output_type": "stream",
     "text": [
      "5\n",
      "<class 'int'>\n"
     ]
    }
   ],
   "source": [
    "a= input (\"ingrese un numero mayor a 0:\")\n",
    "a = int (a)\n",
    "print (a)\n",
    "print (type(a))\n"
   ]
  }
 ],
 "metadata": {
  "kernelspec": {
   "display_name": "Python 3",
   "language": "python",
   "name": "python3"
  },
  "language_info": {
   "codemirror_mode": {
    "name": "ipython",
    "version": 3
   },
   "file_extension": ".py",
   "mimetype": "text/x-python",
   "name": "python",
   "nbconvert_exporter": "python",
   "pygments_lexer": "ipython3",
   "version": "3.11.3"
  },
  "orig_nbformat": 4
 },
 "nbformat": 4,
 "nbformat_minor": 2
}
