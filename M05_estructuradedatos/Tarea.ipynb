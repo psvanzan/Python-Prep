{
 "cells": [
  {
   "attachments": {},
   "cell_type": "markdown",
   "metadata": {},
   "source": [
    "Encontrar todos los indices de un elemento"
   ]
  },
  {
   "cell_type": "code",
   "execution_count": 19,
   "metadata": {},
   "outputs": [
    {
     "name": "stdout",
     "output_type": "stream",
     "text": [
      "['Buenos Aires', 'Lima', 'Boston', 'Roma', 'Paris', 'Barcelona', 'Buenos Aires']\n",
      "elementos de la lista : 7\n",
      "0\n",
      "6\n"
     ]
    }
   ],
   "source": [
    "ciudades = [\"Buenos Aires\", \"Lima\", \"Boston\", \"Roma\", \"Paris\", \"Barcelona\", \"Buenos Aires\"]\n",
    "print (ciudades)\n",
    "largo_lista = len (ciudades)\n",
    "print (f\"elementos de la lista : {largo_lista}\")\n",
    "\n",
    "ciclo = 0\n",
    "while ciclo < largo_lista:\n",
    "    i = ciudades.index(\"Buenos Aires\", ciclo)\n",
    "    print (i)\n",
    "    if i == 0:\n",
    "        i = 1\n",
    "    ciclo +=i"
   ]
  },
  {
   "cell_type": "code",
   "execution_count": 29,
   "metadata": {},
   "outputs": [
    {
     "data": {
      "text/plain": [
       "[1, 5]"
      ]
     },
     "execution_count": 29,
     "metadata": {},
     "output_type": "execute_result"
    }
   ],
   "source": [
    "lista = [10, 20, 30, 40, 30, 20, 10]\n",
    "fruta = 20\n",
    "[indice for indice, dato in enumerate(lista) if dato == fruta]\n"
   ]
  },
  {
   "cell_type": "code",
   "execution_count": 36,
   "metadata": {},
   "outputs": [
    {
     "name": "stdout",
     "output_type": "stream",
     "text": [
      "True\n"
     ]
    }
   ],
   "source": [
    "frutas = [\"manzana\", \"banana\", \"manzana\", \"pera\"]\n",
    "fruta = \"manzana\"\n",
    "[indice for indice, dato in enumerate(frutas) if dato == fruta]\n",
    "print (\"manzana\" in frutas)"
   ]
  },
  {
   "attachments": {},
   "cell_type": "markdown",
   "metadata": {},
   "source": [
    "Verificar si un elemento existe\n"
   ]
  },
  {
   "cell_type": "code",
   "execution_count": 31,
   "metadata": {},
   "outputs": [
    {
     "name": "stdout",
     "output_type": "stream",
     "text": [
      "True\n"
     ]
    }
   ],
   "source": [
    "isPresent = 20 in lista\n",
    "print (isPresent)"
   ]
  }
 ],
 "metadata": {
  "kernelspec": {
   "display_name": "Python 3",
   "language": "python",
   "name": "python3"
  },
  "language_info": {
   "codemirror_mode": {
    "name": "ipython",
    "version": 3
   },
   "file_extension": ".py",
   "mimetype": "text/x-python",
   "name": "python",
   "nbconvert_exporter": "python",
   "pygments_lexer": "ipython3",
   "version": "3.11.3"
  },
  "orig_nbformat": 4
 },
 "nbformat": 4,
 "nbformat_minor": 2
}
